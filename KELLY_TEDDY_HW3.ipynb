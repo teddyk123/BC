{
 "cells": [
  {
   "cell_type": "markdown",
   "id": "eb6eba22-e62a-4847-be42-bd9739e54240",
   "metadata": {},
   "source": [
    "# Software Tools for Data Analysis HW3\n",
    "### Teddy Kelly"
   ]
  },
  {
   "cell_type": "code",
   "execution_count": 2,
   "id": "0e1616cd-712a-42fc-9afc-b3693794c5c0",
   "metadata": {},
   "outputs": [],
   "source": [
    "import numpy as np\n",
    "import math\n",
    "import matplotlib.pyplot as plt\n",
    "import pandas as pd"
   ]
  },
  {
   "cell_type": "markdown",
   "id": "cb236c7d-6ebb-444e-b963-6ae1f5a32e6d",
   "metadata": {},
   "source": [
    "# 1. Estimate the value of $9^{1/5}$ using Newton's method"
   ]
  },
  {
   "cell_type": "markdown",
   "id": "42217296-ccd1-4b22-ae69-6512874a1dde",
   "metadata": {},
   "source": [
    "The first step to estimating this value using Newton's method is to rewrite $9^{1/5}$ as function. Calculating $9^{1/5}$ is in other words saying that we must find some number $x$ such that $x^{5}=9$. Subtracting 9 on both sides, we get the function: $$f(x)=x^{5}-9$$"
   ]
  },
  {
   "cell_type": "markdown",
   "id": "412e02c4-d487-41f6-a181-b0128681e6a8",
   "metadata": {},
   "source": [
    "I will now use Newton's method to estimate the roots of the function $f(x)$ which is the exact same thing as estimating the value of $9^{1/5}$. The formula of Newton's method is the following: $$x_{k+1} = \\frac{-f(x_k)}{f'(x_k)} + x_k$$ where $f'$ is the derivative of $f$ and $x_k$ is the previous estimate being used to approximate the next estimate $x_{k+1}$. "
   ]
  },
  {
   "cell_type": "code",
   "execution_count": 28,
   "id": "bea8a662-9176-4432-b9d8-897475701d40",
   "metadata": {},
   "outputs": [
    {
     "data": {
      "text/plain": [
       "2.4222222222222225"
      ]
     },
     "execution_count": 28,
     "metadata": {},
     "output_type": "execute_result"
    }
   ],
   "source": [
    "# First define our function f(x)=x^5-9\n",
    "def f(x):\n",
    "    return x**5 - 9\n",
    "\n",
    "\n",
    "# Define the derivative f'(x)=5x^4\n",
    "def df(x):\n",
    "    return 5*x**4\n",
    "\n",
    "\n",
    "# Use Newton's method to approximate the roots of f(x) for some value of x\n",
    "def approx_root(x):\n",
    "    return -f(x)/df(x) + x\n",
    "\n",
    "\n",
    "# Call the approx_root function to get the approxoimate root of f(X)\n",
    "approx_root(3)"
   ]
  },
  {
   "cell_type": "markdown",
   "id": "b78bf547-c477-41f1-b21e-66c9f49410fe",
   "metadata": {},
   "source": [
    "The approximate root of f(x) is about 2.422 when I pass the value x = 3 into the `approx_root` function. We can then use the approximation of 2.422 as the next x value that will be passed through the function and we will get an even better approximation of $9^{1/5}$. \n",
    "The goal is keep improving the approximation of the root until we get as close as we get possibly get to the actual value of $9^{1/5}$. \n",
    "\n",
    "To do this, I used a for loop as seen below. I started with an initial x value, that I stored in a list called `x1`, that I wanted to pass through the `approx_root` function. I then appended the resulting root guess for that x value into the same list `x1` and then repreated that same process for the new guess. I did this for 10 iterations and I printing the resulting approximation of $9^{1/5}$ for each iteration. "
   ]
  },
  {
   "cell_type": "code",
   "execution_count": 29,
   "id": "a2077c79-2384-4060-a924-4b4133bdd8fc",
   "metadata": {},
   "outputs": [
    {
     "name": "stdout",
     "output_type": "stream",
     "text": [
      "Approximate value of 9^(1/5) after iteration 1: 2.4222222222222225\n",
      "Approximate value of 9^(1/5) after iteration 2: 1.990067528138014\n",
      "Approximate value of 9^(1/5) after iteration 3: 1.706816853121107\n",
      "Approximate value of 9^(1/5) after iteration 4: 1.5775457403020177\n",
      "Approximate value of 9^(1/5) after iteration 5: 1.552669417640958\n",
      "Approximate value of 9^(1/5) after iteration 6: 1.5518464477117329\n",
      "Approximate value of 9^(1/5) after iteration 7: 1.5518455739163437\n",
      "Approximate value of 9^(1/5) after iteration 8: 1.5518455739153596\n",
      "Approximate value of 9^(1/5) after iteration 9: 1.5518455739153596\n",
      "Approximate value of 9^(1/5) after iteration 10: 1.5518455739153596\n",
      "Actual value of 9^(1/5): 1.5518455739153598\n"
     ]
    }
   ],
   "source": [
    "# Initialize list of x values that will be passed into the approx_root function\n",
    "x1 = [3]\n",
    "\n",
    "# Iterate through each x value in x1\n",
    "for x in x1:\n",
    "    # Stop once size of xs is greater than 10\n",
    "    if len(x1) <= 10:\n",
    "        guess = approx_root(x)  # Store approximation in variable called guess\n",
    "        x1.append(guess)        # add the guess to the x1 list\n",
    "        print(f\"Approximate value of 9^(1/5) after iteration {len(x1)-1}: {guess}\")\n",
    "    else:\n",
    "        break                   # Stop the for loop once the size of x1 exceeds 10\n",
    "\n",
    "print(f\"Actual value of 9^(1/5): {9**(1/5)}\")"
   ]
  },
  {
   "cell_type": "markdown",
   "id": "6e025a4d-1aee-41ef-86d8-4b8e4031f8e7",
   "metadata": {},
   "source": [
    "We can see that after the last iteration, the approximation of $9^{1/5}$ is almost exactly the same as the actual value. "
   ]
  },
  {
   "cell_type": "markdown",
   "id": "357a842e-bcdf-4b60-b900-907cbab8a39b",
   "metadata": {},
   "source": [
    "# 2. Find the roots of the function $f(x)=x^5+x^2-x-0.2$"
   ]
  },
  {
   "cell_type": "markdown",
   "id": "e93b798f-7c11-442b-93cf-0a18bea2076a",
   "metadata": {},
   "source": [
    "I need to first define a function of the form of f(x). I will call it `f2` since this is problem 2 and I will call its derivative function `df2`. I will then define a new function that uses Newton's method on `f2` and `df2` called `approx_root2` to find the roots of the function. "
   ]
  },
  {
   "cell_type": "code",
   "execution_count": 30,
   "id": "56f12e35-bd56-4201-89c5-67453f7e2d04",
   "metadata": {},
   "outputs": [],
   "source": [
    "# Define f(x) = x^5+x^2-x-0.2\n",
    "def f2(x):\n",
    "    return x**5 + x**2 -x -0.2\n",
    "\n",
    "\n",
    "# define its derivation f'(x) = 5x^4+2x-1\n",
    "def df2(x):\n",
    "    return 5*x**4 + 2*x - 1\n",
    "\n",
    "\n",
    "def approx_root2(x):\n",
    "    return -f2(x)/df2(x) + x"
   ]
  },
  {
   "cell_type": "markdown",
   "id": "19949d3e-b150-4386-9a6f-82d8a2e77153",
   "metadata": {},
   "source": [
    "My orginial thought was to split up the original function into 3 separate functions, $f_1(x) = x^5$, $f_2(x) = x^2$, and $f_3(x) = -x - 0.2$ and then use Newton's Method to find the roots for each of these three function. However, this did not work because after applying Newton's method on those 3 functions in the same way I did for problem 1, $0$ is the root of both $x^5$ and $x^2$ which is obvious, and then $-0.2$ is the root of $-x-0.2$. However, plugging these values into the full original function does not make the function equal zero for any of them. I deleted the code that I developed for that attempt because it took up lots of space.\n",
    "\n",
    "I'll instead now use the full originial function and use Newton's Method to find the 3 roots of the function. We know that the roots of the function are somewhere in the interval $[-500, 500]$. My first thought what to peform the same technique that I used in problem 1, but this time using $500$ as my initial guess. I performed about 40 iterations of Newton's Method with that initial guess and converged on the value of approximately $0.811875$. I then plugged in that value into $f(x)$ and got a value extremely close to zero which allowed me to confirm that this was one of the roots. Then, I proceeded to perform the same process but now with an inital guess of $-500$ since this value is at the complete opposite of the interval. I performed about 40 iterations again and converged on the approximate value $-1.19295$. I plugged this value into $f(x)$ and once again returned a value of practically zero which confirmed that this was the second root. I then thought it would be logical to try $0$ as my thrid initial guess since it perfectly splits the interval in half, although I'm not sure if this was  cheating. Aftering performing Newton's Method once more, I converged on the value $-0.17093$ which I plugged into $f(x)$ and got back the value zero, meaning this was the third root of $f(x)$. \n",
    "\n",
    "I finally figured out how to print out all of the roots of $f(x)$ although it is not very efficient. I first created a list ranging from -500 to 500 with a step of 1. I then iterated through each list element, and for every element in the list `x2`, I initialized a new list `xlist` with the current element being analyzed in `x2` as what my first guess will be. Then, I approximated the root with that value and stored it in `guess` and appended the value of `guess` to the list `x2` and then I passed that new value through `approx_root` until the size of `xlist` exceeded 40. Then I printed out the final approximate after the 40 iterations and then the code moves on to the next element in `x2` and does the same process again. We can see from the output that for all negative initial guesses, it converges on -1.19295, for all positive initial guesses, it convergences on 0.811875, and when the iniitial guess is 0, it converges on -0.17093. I tried to implement a way to stop the loop from iterating if consecutive values were extremely close together but I did not have success implementing that idea into python. Also, I want each root to be printed out only once and not a gazillion times like I have it now, but I still need to figure out how to tranlate that thought into code. I commented the print statements to hide the output because there is so much."
   ]
  },
  {
   "cell_type": "code",
   "execution_count": 31,
   "id": "ae621235-db1e-4f88-b790-c7160ff43c7a",
   "metadata": {},
   "outputs": [],
   "source": [
    "# Create a list called x2 that ranges from -500 to 500 with a step size of 1\n",
    "x2 = np.arange(-500, 501, 1).tolist()\n",
    "\n",
    "# Iterate through each x value in x2\n",
    "for x in x2:\n",
    "    xlist = [x]                      # initialize a list called xlist with the specified value of x\n",
    "    for i in xlist:                  # Iterate through every element in xlist. The elements i in xlist will be passed through approx_root\n",
    "        if len(xlist) <= 40:         # 40 iterations\n",
    "            guess = approx_root2(i)  # Store approximation in variable called guess\n",
    "            xlist.append(guess)      # add the guess to xlist\n",
    "        else:\n",
    "            # Print out the final guess for each initial guess x in x2\n",
    "            #print(f\"Approximate root using initial guess {x}: {guess}\") \n",
    "            break"
   ]
  },
  {
   "cell_type": "markdown",
   "id": "977f5beb-5baf-480c-a7de-bb050410a9c1",
   "metadata": {},
   "source": [
    "I realized that if I step through the original list by 500, then it works out perfectly such that each root gets printed out only once, however this seems like a shortcut and not an valid solution."
   ]
  },
  {
   "cell_type": "code",
   "execution_count": 32,
   "id": "d3cc6b70-91ff-4f17-8523-f966526feab9",
   "metadata": {},
   "outputs": [
    {
     "name": "stdout",
     "output_type": "stream",
     "text": [
      "1st root using initial guess -500: -1.1929500406927476\n",
      "2st root using initial guess 0: -0.17092913819106886\n",
      "3st root using initial guess 500: 0.8118754246683657\n"
     ]
    }
   ],
   "source": [
    "# Same exact code above, except x2 = [-500, 0, 500]\n",
    "x2 = np.arange(-500, 501, 500).tolist()\n",
    "\n",
    "\n",
    "for x in x2:\n",
    "    xlist = [x]\n",
    "    for i in xlist:\n",
    "        if len(xlist) <= 40:\n",
    "            guess = approx_root2(i) \n",
    "            xlist.append(guess)\n",
    "        else:\n",
    "            print(f\"{x2.index(x)+1}st root using initial guess {x}: {guess}\") "
   ]
  },
  {
   "cell_type": "markdown",
   "id": "f750bb99-8cf7-4f74-af62-d81688a54fbe",
   "metadata": {},
   "source": [
    "I have it! After the 40 iterations have finished for each value in `x2`, I can append the very last guess for the root to a list outside of all of the loops. However, I only want to add `guess` to tht list only if it is not already in the list. This way, I can fully iterate trhough the list `x2` and only print out 3 unique approximate roots."
   ]
  },
  {
   "cell_type": "code",
   "execution_count": 33,
   "id": "3e6ced42-8f72-40e4-802d-e8e65d18546f",
   "metadata": {},
   "outputs": [
    {
     "name": "stdout",
     "output_type": "stream",
     "text": [
      "1st root using initial guess -500.0: -1.1929500406927476\n",
      "2st root using initial guess -0.8500000004539743: 0.8118754246683657\n",
      "3st root using initial guess -0.7600000004540561: -0.17092913819106886\n"
     ]
    }
   ],
   "source": [
    "x2 = np.arange(-500, 501, .01).tolist()\n",
    "\n",
    "# Initialize an empty list called roots that will contain all of the unique roots after the loops finish\n",
    "roots = []\n",
    "\n",
    "for x in x2:\n",
    "    xlist = [x]\n",
    "    for i in xlist:\n",
    "        if len(xlist) <= 40:\n",
    "            guess = approx_root2(i) \n",
    "            xlist.append(guess)\n",
    "        elif (guess not in roots) & (len(xlist) > 40): # Append the final guess to the list roots only if that value is not already in roots\n",
    "            roots.append(guess)\n",
    "            print(f\"{roots.index(guess)+1}st root using initial guess {x}: {guess}\")\n",
    "        else:\n",
    "            break"
   ]
  },
  {
   "cell_type": "markdown",
   "id": "9c0cfdb5-e819-42f9-9c9c-c295b4b1c98f",
   "metadata": {},
   "source": [
    "It works! I am actually surprised that this code works because I would have thought that all of the `guess` values would be evaluated as not being in the list `root` due to rounding and the values not being exactly the same. \n",
    "\n",
    "I can now set each of these roots equal to $r1, r2, r3$ and then pass these variables into $f(x)$ to observe if we get zero."
   ]
  },
  {
   "cell_type": "code",
   "execution_count": 34,
   "id": "286944a3-a886-4e56-9926-47416203a399",
   "metadata": {},
   "outputs": [
    {
     "name": "stdout",
     "output_type": "stream",
     "text": [
      "f(r1) = 3.885780586188048e-16\n",
      "f(r2) = -5.551115123125783e-17\n",
      "f(r3) = 0.0\n"
     ]
    }
   ],
   "source": [
    "r1, r2, r3 = roots[0], roots[1], roots[2]\n",
    "\n",
    "# Testing r1\n",
    "print(f\"f(r1) = {r1**5 + r1**2 - r1 - 0.2}\")\n",
    "\n",
    "# Testing r2\n",
    "print(f\"f(r2) = {r2**5 + r2**2 - r2 - 0.2}\")\n",
    "\n",
    "# Testing r3\n",
    "print(f\"f(r3) = {r3**5 + r3**2 - r3 - 0.2}\")"
   ]
  },
  {
   "cell_type": "markdown",
   "id": "c7d19332-abb2-4fa7-a278-9dfec008e501",
   "metadata": {},
   "source": [
    "These values when passed through $f(x)$ are all zero or very close to zero because of rounding. This means that $x = -0.171, x = -1.193$, and $x = 0.812$ are the three roots of the function $f(x)=x^5+x^2-x-0.2$. "
   ]
  },
  {
   "cell_type": "markdown",
   "id": "c9822eba-3a30-43bd-bfa5-6127e172ffe3",
   "metadata": {},
   "source": [
    "# 3. Find all real solutions to $e^{x}=x+3$"
   ]
  },
  {
   "cell_type": "markdown",
   "id": "0c91df25-112f-4b65-bc45-95d4035f4f34",
   "metadata": {},
   "source": [
    "I will begin by define the function $f(x) = e^{x}-x-3$, its derivative $f'(x) = e^{x}-1$, and Newton's approximation in python. To use `e` in python, you must import the math module which I have done at the top of the notebook. This is my original code below which effectively finds two values that Newton's Method seems to be converging on. These values are approximately $x = -2.9475$ and $x = 1.5052$. I ued the same interval that we were told to use for the previous problem, however notice that I had to adjust the step of the list to be 3 so that the `approx_root3` function would not have to deal with a zero. Otherwise, the derivative would become zero since $e^0-1 = 0$ and this would have resulted in dividing by zero and stopping the code from working. It's surprising to see that newton's Method does not converge on the either of the roots for some of the positive iniital roots. This must have something to do with the exponential function and how the function increases exponentially with increasing positive values, outpacing the quadraftic convergence of Newton's Method. \n",
    "\n"
   ]
  },
  {
   "cell_type": "code",
   "execution_count": 3,
   "id": "562b2238-45dd-4c07-9a42-bdd3bb8b9b78",
   "metadata": {},
   "outputs": [],
   "source": [
    "\n",
    "\n",
    "def f3(x):\n",
    "    return math.e**x - x - 3\n",
    "\n",
    "\n",
    "def df3(x):\n",
    "    return math.e**x -1\n",
    "\n",
    "\n",
    "def approx_root3(x):\n",
    "    return -f3(x)/df3(x) + x\n",
    "\n",
    "\n",
    "\n",
    "\n",
    "# Same strategy as for number 2\n",
    "x3 = np.arange(-500, 500, 3).tolist()\n",
    "\n",
    "for x in x3:\n",
    "    x3list = [x]\n",
    "    for i in x3list:\n",
    "        if len(x3list) <=50:\n",
    "            guess = approx_root3(i)\n",
    "            x3list.append(guess)\n",
    "        else:\n",
    "            print(f\"approximate root using initial guess of {x} after iteration {len(x3list)-1}: {guess}\")"
   ]
  },
  {
   "cell_type": "markdown",
   "id": "0abd6eb2-b4b2-4d9a-b6df-a1595233b5cd",
   "metadata": {},
   "source": [
    "I will now implement the same method that I used for problem 2 to see if I can return both of the roots only once."
   ]
  },
  {
   "cell_type": "code",
   "execution_count": 4,
   "id": "a51f1d8b-a405-46a6-89e3-6875a23ff420",
   "metadata": {},
   "outputs": [],
   "source": [
    "# Inititalize range of values used to approximate roots of f(x)\n",
    "x3 = np.arange(-500, 500, 3)\n",
    "\n",
    "# inititalize empty list\n",
    "roots3 = []\n",
    "\n",
    "for x in x3:\n",
    "    x3list = [x]\n",
    "    for i in x3list:\n",
    "        if len(x3list) <= 50:\n",
    "            guess = approx_root3(i)\n",
    "            x3list.append(guess)\n",
    "        elif (guess not in roots3) & (len(x3list) > 50):\n",
    "            roots3.append(guess)\n",
    "            print(f\"approx root using initial guess {x} after iteration {len(x3list)-1}: {guess}\")\n",
    "        else:\n",
    "            break\n",
    "\n"
   ]
  },
  {
   "cell_type": "markdown",
   "id": "82615208-4684-4cab-8de6-2d6521508188",
   "metadata": {},
   "source": [
    "We can see that the actual roots of the function are only printed out once, but this method doesn't work well because Newton's Method is unable to converge fast enough with initial values that are greater than 50. This is because exponential functions outpace the quadratic convergence of Newton's Method with larger positive inital guesses. However, plugging the two values we identified as the roots earlier makes the function become zero."
   ]
  },
  {
   "cell_type": "code",
   "execution_count": 12,
   "id": "d86ed28d-66fb-42de-8de6-18799deaed3c",
   "metadata": {},
   "outputs": [
    {
     "name": "stdout",
     "output_type": "stream",
     "text": [
      "0.0\n",
      "8.881784197001252e-16\n"
     ]
    }
   ],
   "source": [
    "x1 = roots3[1]\n",
    "x2 = roots3[2]\n",
    "\n",
    "print(math.e**x1 - x1 - 3)\n",
    "\n",
    "print(math.e**x2 - x2 - 3)"
   ]
  },
  {
   "cell_type": "markdown",
   "id": "1c68d3df-e8df-48d9-bd33-7c2ef01cab88",
   "metadata": {},
   "source": [
    "# 4. Solve the equation $x^3-3x^2+2x=0$"
   ]
  },
  {
   "cell_type": "markdown",
   "id": "61b3532e-422e-44f8-a24b-b092663ab2ee",
   "metadata": {},
   "source": [
    "I will first solve the equation using the same process I used above before focusing specifically of the interval $[1.4,1.5]$. The for loop in the first code block was my original strategy before I developed the idea of intitializing an empty vector outside of the loop and appending the list with only unique values of `guess` after each iteration for problem 2. I then applied that same strategy here in the second code block below. As, we can see, the 3 roots of $f(x)$ are $x=0, 1, 2$. "
   ]
  },
  {
   "cell_type": "code",
   "execution_count": 13,
   "id": "d29a1a1e-5004-400c-aac2-e716c11db76e",
   "metadata": {},
   "outputs": [],
   "source": [
    "def f4(x):\n",
    "    return x**3 - 3*x**2 + 2*x\n",
    "\n",
    "\n",
    "def df4(x):\n",
    "    return 3*x**2 - 6*x + 2\n",
    "\n",
    "\n",
    "def approx_root4(x):\n",
    "    return -f4(x)/df4(x) + x\n",
    "\n",
    "# Same format as above\n",
    "x4 = np.arange(-100, 100, 1)\n",
    "\n",
    "for x in x4:\n",
    "    x4list = [x]\n",
    "    for i in x4list:\n",
    "        if len(x4list) <= 40:\n",
    "            guess = approx_root4(i)\n",
    "            x4list.append(guess)\n",
    "        else:\n",
    "            #print(f\"approximate root for initial guess {x}: {guess}\")\n",
    "            break\n"
   ]
  },
  {
   "cell_type": "code",
   "execution_count": 14,
   "id": "9e595dbf-521e-4a7c-832d-9e1b0fe1bbec",
   "metadata": {},
   "outputs": [
    {
     "name": "stdout",
     "output_type": "stream",
     "text": [
      "1st root of f(x) using initial of guess -1000: 0.0\n",
      "2st root of f(x) using initial of guess 1: 1.0\n",
      "3st root of f(x) using initial of guess 2: 2.0\n"
     ]
    }
   ],
   "source": [
    "x4 = np.arange(-1000, 1000, 1)\n",
    "\n",
    "roots4 = []\n",
    "for x in x4:\n",
    "    x4list = [x]\n",
    "    for i in x4list:\n",
    "        if len(x4list) <= 40:\n",
    "            guess = approx_root4(i)\n",
    "            x4list.append(guess)\n",
    "        elif (guess not in roots4):\n",
    "            roots4.append(guess)\n",
    "            print(f\"{roots4.index(guess)+1}st root of f(x) using initial of guess {x}: {guess}\")\n",
    "        else:\n",
    "            break\n",
    "            "
   ]
  },
  {
   "cell_type": "markdown",
   "id": "82c6d5ae-25be-4972-bd30-3ee049c62b51",
   "metadata": {},
   "source": [
    "We see that there are three roots to the function $f(x) = x^3-3x^2+2x=0$: $$x = 0, x = 1, x = 2$$"
   ]
  },
  {
   "cell_type": "markdown",
   "id": "94825a96-121d-46c8-8e80-cb2f8817b232",
   "metadata": {},
   "source": [
    "Now, I will focus on the interval from $[1.4,1.5]$."
   ]
  },
  {
   "cell_type": "code",
   "execution_count": 16,
   "id": "aef5ae02-ce65-4569-8d14-a9e768652b76",
   "metadata": {},
   "outputs": [],
   "source": [
    "# Focus on interval [1.4, 1.5]\n",
    "x42 = np.linspace(1.4, 1.5, num=100000).tolist()\n",
    "\n",
    "# Initialize empty lists that will contain the initial guesses, the corresponding roots those guess converge to, and the number of iterations\n",
    "initial_guess = []\n",
    "root = []\n",
    "number_of_iterations = []\n",
    "\n",
    "# Iterate through each value between 1.4 and 1.5 included in the list x42\n",
    "for x in x42:\n",
    "    x42list = [x]               # Initialize list with x that will be passed through approx_root4                       \n",
    "    initial_guess.append(x)     # Append each initial value in x42 to the list initial_guess\n",
    "    for i in x42list:           # Iterate through each element in x42list until the size of the list exceeds 40\n",
    "        if len(x42list) <= 40:      \n",
    "            guess = approx_root4(i) # store the approximate root in a variable called guess\n",
    "            x42list.append(guess)   # append guess to x42list\n",
    "        else:\n",
    "            root.append(guess)                         # After x42list is greater than 40, append the last element of x42list to the list root\n",
    "            #print(f\"initial guess of {x} is {guess}\") # Hide output because there are many values\n",
    "            number_of_iterations.append(len(x42list)) # Append the number_of_iterations list with the size of x42list\n",
    "            \n",
    "\n",
    "        "
   ]
  },
  {
   "cell_type": "markdown",
   "id": "5172db32-16cc-462f-a010-329346a961b5",
   "metadata": {},
   "source": [
    "Create a table with 3 columns for root, initial guess, number of iterations"
   ]
  },
  {
   "cell_type": "code",
   "execution_count": 17,
   "id": "cc514ad8-0617-4727-8a41-5a050605b72c",
   "metadata": {},
   "outputs": [
    {
     "data": {
      "text/html": [
       "<div>\n",
       "<style scoped>\n",
       "    .dataframe tbody tr th:only-of-type {\n",
       "        vertical-align: middle;\n",
       "    }\n",
       "\n",
       "    .dataframe tbody tr th {\n",
       "        vertical-align: top;\n",
       "    }\n",
       "\n",
       "    .dataframe thead th {\n",
       "        text-align: right;\n",
       "    }\n",
       "</style>\n",
       "<table border=\"1\" class=\"dataframe\">\n",
       "  <thead>\n",
       "    <tr style=\"text-align: right;\">\n",
       "      <th></th>\n",
       "      <th>initial guess</th>\n",
       "      <th>root</th>\n",
       "      <th>number_of_iterations</th>\n",
       "    </tr>\n",
       "  </thead>\n",
       "  <tbody>\n",
       "    <tr>\n",
       "      <th>0</th>\n",
       "      <td>1.400000</td>\n",
       "      <td>1.0</td>\n",
       "      <td>41</td>\n",
       "    </tr>\n",
       "    <tr>\n",
       "      <th>1</th>\n",
       "      <td>1.400001</td>\n",
       "      <td>1.0</td>\n",
       "      <td>41</td>\n",
       "    </tr>\n",
       "    <tr>\n",
       "      <th>2</th>\n",
       "      <td>1.400002</td>\n",
       "      <td>1.0</td>\n",
       "      <td>41</td>\n",
       "    </tr>\n",
       "    <tr>\n",
       "      <th>3</th>\n",
       "      <td>1.400003</td>\n",
       "      <td>1.0</td>\n",
       "      <td>41</td>\n",
       "    </tr>\n",
       "    <tr>\n",
       "      <th>4</th>\n",
       "      <td>1.400004</td>\n",
       "      <td>1.0</td>\n",
       "      <td>41</td>\n",
       "    </tr>\n",
       "    <tr>\n",
       "      <th>...</th>\n",
       "      <td>...</td>\n",
       "      <td>...</td>\n",
       "      <td>...</td>\n",
       "    </tr>\n",
       "    <tr>\n",
       "      <th>99995</th>\n",
       "      <td>1.499996</td>\n",
       "      <td>0.0</td>\n",
       "      <td>41</td>\n",
       "    </tr>\n",
       "    <tr>\n",
       "      <th>99996</th>\n",
       "      <td>1.499997</td>\n",
       "      <td>0.0</td>\n",
       "      <td>41</td>\n",
       "    </tr>\n",
       "    <tr>\n",
       "      <th>99997</th>\n",
       "      <td>1.499998</td>\n",
       "      <td>0.0</td>\n",
       "      <td>41</td>\n",
       "    </tr>\n",
       "    <tr>\n",
       "      <th>99998</th>\n",
       "      <td>1.499999</td>\n",
       "      <td>0.0</td>\n",
       "      <td>41</td>\n",
       "    </tr>\n",
       "    <tr>\n",
       "      <th>99999</th>\n",
       "      <td>1.500000</td>\n",
       "      <td>0.0</td>\n",
       "      <td>41</td>\n",
       "    </tr>\n",
       "  </tbody>\n",
       "</table>\n",
       "<p>100000 rows × 3 columns</p>\n",
       "</div>"
      ],
      "text/plain": [
       "       initial guess  root  number_of_iterations\n",
       "0           1.400000   1.0                    41\n",
       "1           1.400001   1.0                    41\n",
       "2           1.400002   1.0                    41\n",
       "3           1.400003   1.0                    41\n",
       "4           1.400004   1.0                    41\n",
       "...              ...   ...                   ...\n",
       "99995       1.499996   0.0                    41\n",
       "99996       1.499997   0.0                    41\n",
       "99997       1.499998   0.0                    41\n",
       "99998       1.499999   0.0                    41\n",
       "99999       1.500000   0.0                    41\n",
       "\n",
       "[100000 rows x 3 columns]"
      ]
     },
     "execution_count": 17,
     "metadata": {},
     "output_type": "execute_result"
    }
   ],
   "source": [
    "table = pd.DataFrame(\n",
    "    zip(initial_guess, root, number_of_iterations),\n",
    "    columns = [\"initial guess\", \"root\", \"number_of_iterations\"]\n",
    ")\n",
    "table"
   ]
  },
  {
   "cell_type": "markdown",
   "id": "51fd89d4-8d40-437d-821d-2d2af36ae64a",
   "metadata": {},
   "source": [
    "There are so many rows in this table which makes it difficult to see any pattern in the root that the initial values converge to when performing Newton's Method. Below is a graph that displays the pattern of which initial values converge to 0, 1, or 2 when Newton's Method is performed."
   ]
  },
  {
   "cell_type": "code",
   "execution_count": 18,
   "id": "696e5f29-ba06-43f4-b20a-038c497df3c1",
   "metadata": {},
   "outputs": [
    {
     "data": {
      "text/plain": [
       "Text(0.5, 1.0, \"Convergence of Initial between 1.4 and 1.5 using Newton's Method\")"
      ]
     },
     "execution_count": 18,
     "metadata": {},
     "output_type": "execute_result"
    },
    {
     "data": {
      "image/png": "[encoded data removed]",
      "text/plain": [
       "<Figure size 640x480 with 1 Axes>"
      ]
     },
     "metadata": {},
     "output_type": "display_data"
    }
   ],
   "source": [
    "plt.scatter(root, initial_guess)\n",
    "plt.xlabel(\"Roots of f(x)\")\n",
    "plt.ylabel(\"initial Guesses between 1.4 and 1.5\")\n",
    "plt.title(\"Convergence of Initial between 1.4 and 1.5 using Newton's Method\")"
   ]
  },
  {
   "cell_type": "markdown",
   "id": "95b119ba-0466-4f5f-b0f9-c95f3818e643",
   "metadata": {},
   "source": [
    "From the graph above, it appears that applying Newton's Method to $f(x) = x^3-3x^2+2x$ with initial values between 1.4 and approximately 1.45 results in converging on the root $x = 1$. There are then a brief set of initial values around 1.45 where using newton's method converges to 2, followed by a brief set of values that converge to 0, followed by a main interval of initial values ranging from about 1.45 to 1.465 which result in converging to the root $x = 2$. After this interval, then the rest of the initial values from about 1.465 to 1.5 converge to the root $x = 0$ when Newton's method is applied. \n",
    "\n",
    "This is a really interesting pattern. Why is it that Newton's method converges to 1 with initial guess close to 1.4, and the 2 with initia; guess near the middle of the interval, and then to 0 with initial guess closer to 1.5? Also, why is there that little section in the middle of the interval that converges to 0? I don't have the answer to this question mbut it must have something to do with the properties of the function."
   ]
  },
  {
   "cell_type": "markdown",
   "id": "9026d806-f5b6-44a1-910a-16fa53f678e3",
   "metadata": {},
   "source": [
    "# 5. Estimate the value of pi using Newton's Method"
   ]
  },
  {
   "cell_type": "markdown",
   "id": "3b723cf5-ad3c-48e9-bdca-c5e92400abc2",
   "metadata": {},
   "source": [
    "We know that $\\sin(\\pi)=0$. This means that $\\pi$ is one of the roots of the function $\\sin(x)$, so we will use Newton's method on the function $f(x)=\\sin(x)$."
   ]
  },
  {
   "cell_type": "code",
   "execution_count": 19,
   "id": "8f55dbae-5dd7-4a83-8511-3735dba8e369",
   "metadata": {},
   "outputs": [
    {
     "name": "stdout",
     "output_type": "stream",
     "text": [
      "approximate value of pi after 30 iterations: 3.141592653589793\n"
     ]
    }
   ],
   "source": [
    "def f5(x):\n",
    "    return math.sin(x)\n",
    "\n",
    "\n",
    "def df5(x):\n",
    "    return math.cos(x)\n",
    "\n",
    "\n",
    "def approx_root5(x):\n",
    "    return -f5(x)/df5(x) + x\n",
    "\n",
    "\n",
    "\n",
    "x5 = [4]\n",
    "\n",
    "for x in x5:\n",
    "    if len(x5) <= 30:\n",
    "        guess = approx_root5(x)\n",
    "        x5.append(guess)\n",
    "    else:\n",
    "        print(f\"approximate value of pi after {len(x5)-1} iterations: {guess}\")\n",
    "        \n",
    "    "
   ]
  },
  {
   "cell_type": "markdown",
   "id": "cd742669-bfe3-4004-b8ff-ff0a37143997",
   "metadata": {},
   "source": [
    "I decided to choose an initial value that was pretty close to the actual value of pi because otherwise, Newton's Method may have converged on a multiple of pi. I decided to run Newton's Method for 30 iterations to be safe and I printed out only the final approximation, This appears to be identical to the actual value of pi. In fact, I have shown that the final guess of pi is exactly equal to the actual value of pi below."
   ]
  },
  {
   "cell_type": "code",
   "execution_count": 20,
   "id": "82aeb86c-f717-4d2a-9aa6-1c26fae91006",
   "metadata": {},
   "outputs": [
    {
     "data": {
      "text/plain": [
       "True"
      ]
     },
     "execution_count": 20,
     "metadata": {},
     "output_type": "execute_result"
    }
   ],
   "source": [
    "guess == math.pi"
   ]
  }
 ],
 "metadata": {
  "kernelspec": {
   "display_name": "Python 3 (ipykernel)",
   "language": "python",
   "name": "python3"
  },
  "language_info": {
   "codemirror_mode": {
    "name": "ipython",
    "version": 3
   },
   "file_extension": ".py",
   "mimetype": "text/x-python",
   "name": "python",
   "nbconvert_exporter": "python",
   "pygments_lexer": "ipython3",
   "version": "3.13.5"
  }
 },
 "nbformat": 4,
 "nbformat_minor": 5
}
