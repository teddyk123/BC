{
 "cells": [
  {
   "cell_type": "markdown",
   "id": "47f51ccf",
   "metadata": {},
   "source": [
    "<div style=\"text-align: right\">ADAN7900 Lecture 2</div>\n",
    "<div style=\"text-align: right\">Prof. Stefano Parravano, 09/05/20225</div>\n",
    "\n",
    "## OLS Example Problem\n",
    "\n",
    "Given the data: $(x_i,y_i)$: (2,1),(5,2),(7,3),(8,3).\n",
    "\n",
    "Find a linear model of the form:\n",
    "\n",
    "$$ y = \\beta_0 + \\beta_1 x $$\n",
    "\n",
    "that fits the data provided. Use OLS.\n",
    "\n",
    "Step 1: Create the design matrix\n",
    "\n",
    "$$ X = \\begin{bmatrix} 1 & 2 \\\\ 1 & 5 \\\\ 1 & 7 \\\\ 1 & 8 \\end{bmatrix}$$\n",
    "\n",
    "Step 2: take note of the observation vector and the parameter vector.\n",
    "\n",
    "parameter vector:\n",
    "$$\\vec{\\beta} = \\begin{bmatrix} \\ \\beta_0 \\\\ \\beta_1 \\end{bmatrix} $$\n",
    "\n",
    "observation vector:\n",
    "$$\\vec{y} = \\begin{bmatrix} \\ 1 \\\\ 2 \\\\ 3 \\\\ 3 \\end{bmatrix} $$\n",
    "\n",
    "Step 3: Express the problem in the language of matrix alegebra:\n",
    "\n",
    "$$ X\\vec{\\beta} = \\vec{y} $$\n",
    "\n",
    "Step 4: Use normal equations to solve for $\\hat{\\beta}$\n",
    "\n",
    "$$ X^TX\\hat{\\beta} = X^T\\vec{y} $$\n",
    "\n",
    "$$\\implies$$\n",
    "\n",
    "$$ \\hat{\\beta} = (X^TX)^{-1} X^T\\vec{y} $$\n",
    "\n",
    "Step 5: Use python to perform the computation. This is what you will have to figure out :). PLease use the sympy package to perform operations between matrices and vectors.\n",
    "\n",
    "Step 6: Report your result.\n",
    "\n",
    "$$ \\hat{\\beta} = \\begin{bmatrix} \\ \\frac{2}{7} \\\\ \\frac{5}{14} \\end{bmatrix} $$\n",
    "\n",
    "$$ \\therefore y = \\frac{2}{7} + \\frac{5}{14} x $$"
   ]
  },
  {
   "cell_type": "markdown",
   "id": "98bf3018",
   "metadata": {},
   "source": [
    "## Assignment:\n",
    "\n",
    "Given the data provided below: x_feature et y_feature please fit a function of the form: $$ f(x) = ax^2 + bx + c $$  \n",
    "where:  \n",
    "$$ (a,b,c) \\in \\mathbf{R}$$  \n",
    "and of course let's not forget:  \n",
    "$$ a \\neq 0 $$  \n",
    "\n",
    "Use OLS and do not use a package to estimate the unknown parameters $\\hat\\beta$ (a,b,c).\n",
    "\n",
    "You must follow the step by step outlined in the example problem above.\n",
    "\n",
    "In addition, you are required to:\n",
    " + compute the residual vector: $\\epsilon = \\vec{y} - X \\hat{\\beta}$\n",
    " + compute the norm of the residual vector (what does this represent)? Provide a description in plain english.\n",
    " + plot your data and the best fit line you estimated.\n",
    " + Compute the RMSE and compare it against the RMSE reported in the OLS_gradientDescent notebook (model was fit on the same data using Gradient Descent as opposed to the closed form solution). Are the estimates different? Comment on this.\n",
    " \n",
    "\n",
    "You may notice that in te OLS_gradientDescent notebook the features are normalized before the training process.\n",
    "\n",
    "Please perform the model fitting (training) using non-normalized features first and then repeat the entire process using normalized features. Take note of the differences and provide meaningful commentary.\n",
    "\n",
    "NOTE: I provide the function to normalize a feature vector.\n",
    "\n",
    "As a Final Step: Use R or any software/language of your choosing to perform OLS regression on the sample dataset provided. Do you get the same resutls?"
   ]
  },
  {
   "cell_type": "markdown",
   "id": "9bada2f1",
   "metadata": {},
   "source": [
    "## Solution"
   ]
  },
  {
   "cell_type": "code",
   "execution_count": 1,
   "id": "1aff9932",
   "metadata": {},
   "outputs": [],
   "source": [
    "from sympy import *\n",
    "import matplotlib.pyplot as plt\n",
    "import numpy as np"
   ]
  },
  {
   "cell_type": "code",
   "execution_count": 2,
   "id": "3dc89f86",
   "metadata": {},
   "outputs": [],
   "source": [
    "def normalize_tensor_0_1(tensor):\n",
    "    min_ten=min(tensor)\n",
    "    max_ten=max(tensor)\n",
    "    norm_ten=(tensor - min_ten)/(max_ten-min_ten)\n",
    "    return(norm_ten)"
   ]
  },
  {
   "cell_type": "markdown",
   "id": "2f98b3c5-ae35-4c18-82e5-16daa6b21d05",
   "metadata": {},
   "source": [
    "### Create y matrix and x features"
   ]
  },
  {
   "cell_type": "code",
   "execution_count": 3,
   "id": "25177ffe",
   "metadata": {},
   "outputs": [],
   "source": [
    "y = Matrix([[7.3],[15.1],[17.2],[61.9],[12.3],[8],[11.6],[22.5],[6],[16.6],[32.2]])\n",
    "x_feature = np.asarray([35.7,55.9,58.2,81.9,56.3,48.9,33.9,21.8,48.4,60.4,68.4])\n",
    "y_feature = np.asarray([y[x] for x in range(y.shape[0])])"
   ]
  },
  {
   "cell_type": "code",
   "execution_count": 4,
   "id": "cd0c64e2-a2bb-44c6-ad7c-b1392dd66dcb",
   "metadata": {},
   "outputs": [
    {
     "name": "stdout",
     "output_type": "stream",
     "text": [
      "[35.7 55.9 58.2 81.9 56.3 48.9 33.9 21.8 48.4 60.4 68.4]\n",
      "[7.30000000000000 15.1000000000000 17.2000000000000 61.9000000000000\n",
      " 12.3000000000000 8 11.6000000000000 22.5000000000000 6 16.6000000000000\n",
      " 32.2000000000000]\n"
     ]
    }
   ],
   "source": [
    "print(x_feature)\n",
    "print(y_feature)"
   ]
  },
  {
   "cell_type": "markdown",
   "id": "2c87a5d6-f35d-4935-8a11-a62df8a62a94",
   "metadata": {},
   "source": [
    "### Plot the data first to see what type of estimating equation we want"
   ]
  },
  {
   "cell_type": "code",
   "execution_count": 5,
   "id": "6e804896-5a31-48f7-9d73-7d853c7f22bc",
   "metadata": {},
   "outputs": [
    {
     "data": {
      "text/plain": [
       "<matplotlib.collections.PathCollection at 0x1107ceba0>"
      ]
     },
     "execution_count": 5,
     "metadata": {},
     "output_type": "execute_result"
    },
    {
     "data": {
      "image/png": "[encoded data removed]",
      "text/plain": [
       "<Figure size 640x480 with 1 Axes>"
      ]
     },
     "metadata": {},
     "output_type": "display_data"
    }
   ],
   "source": [
    "plt.scatter(x_feature, y_feature)"
   ]
  },
  {
   "cell_type": "markdown",
   "id": "fd7f0ec8-714e-46f5-924a-61b363ccb929",
   "metadata": {},
   "source": [
    "Looks like a quadratic function would best represent this function."
   ]
  },
  {
   "cell_type": "markdown",
   "id": "0444ab06-8985-469b-921c-7722bb35e747",
   "metadata": {},
   "source": [
    "### Create the design Matix"
   ]
  },
  {
   "cell_type": "markdown",
   "id": "4e799d32-a7ba-4778-b3d5-7a7fcdae7d64",
   "metadata": {},
   "source": [
    "Let's first create the design matrix `X`. Note that for this problem, we have 3 unkown variables, so for our design matrix, we must have 3 columns. We will say that column 1 represents the $x_i^2$ values, column 2 represents the $x_i$ values, and column 3 represents the constant value $c$."
   ]
  },
  {
   "cell_type": "code",
   "execution_count": 6,
   "id": "1b33d914-27d4-4f6e-9dd8-948f0d414c3f",
   "metadata": {},
   "outputs": [
    {
     "data": {
      "text/latex": [
       "$\\displaystyle \\left[\\begin{matrix}1274.49 & 35.7 & 1\\\\3124.81 & 55.9 & 1\\\\3387.24 & 58.2 & 1\\\\6707.61 & 81.9 & 1\\\\3169.69 & 56.3 & 1\\\\2391.21 & 48.9 & 1\\\\1149.21 & 33.9 & 1\\\\475.24 & 21.8 & 1\\\\2342.56 & 48.4 & 1\\\\3648.16 & 60.4 & 1\\\\4678.56 & 68.4 & 1\\end{matrix}\\right]$"
      ],
      "text/plain": [
       "Matrix([\n",
       "[1274.49, 35.7, 1],\n",
       "[3124.81, 55.9, 1],\n",
       "[3387.24, 58.2, 1],\n",
       "[6707.61, 81.9, 1],\n",
       "[3169.69, 56.3, 1],\n",
       "[2391.21, 48.9, 1],\n",
       "[1149.21, 33.9, 1],\n",
       "[ 475.24, 21.8, 1],\n",
       "[2342.56, 48.4, 1],\n",
       "[3648.16, 60.4, 1],\n",
       "[4678.56, 68.4, 1]])"
      ]
     },
     "execution_count": 6,
     "metadata": {},
     "output_type": "execute_result"
    }
   ],
   "source": [
    "constants = [1 for x in range(len(x_feature))]\n",
    "# create the X design matrix\n",
    "X = Matrix([(x_feature**2), x_feature, constants]).T\n",
    "X\n"
   ]
  },
  {
   "cell_type": "markdown",
   "id": "a5f5f3a4-2a1f-4877-9d8d-7e3d485eaf32",
   "metadata": {},
   "source": [
    "### Perform OLS regression to find $\\hat\\beta$ vector"
   ]
  },
  {
   "cell_type": "markdown",
   "id": "876d38b0-aee6-4d38-9e0f-5ac90ad292db",
   "metadata": {},
   "source": [
    "Now, we will perform OLS regression using our design matrix `X` and observation vector `y`. Note that the resulting $\\hat{\\beta}$ vector will be of size $3x1$ since the design matrix has 3 columns."
   ]
  },
  {
   "cell_type": "code",
   "execution_count": 7,
   "id": "17f65b28-ea31-4005-807a-a31d10c2980e",
   "metadata": {},
   "outputs": [],
   "source": [
    "# OLS Regression using the matrix closed form solution\n",
    "beta_hat = (X.T*X).inv() * X.T*y"
   ]
  },
  {
   "cell_type": "code",
   "execution_count": 8,
   "id": "4ffbe889-4fef-4485-9fa0-9c0c693614da",
   "metadata": {},
   "outputs": [
    {
     "data": {
      "text/latex": [
       "$\\displaystyle \\left[\\begin{matrix}0.0361959753727328\\\\-3.08939325442392\\\\72.7400574684358\\end{matrix}\\right]$"
      ],
      "text/plain": [
       "Matrix([\n",
       "[0.0361959753727328],\n",
       "[ -3.08939325442392],\n",
       "[  72.7400574684358]])"
      ]
     },
     "execution_count": 8,
     "metadata": {},
     "output_type": "execute_result"
    }
   ],
   "source": [
    "beta_hat"
   ]
  },
  {
   "cell_type": "code",
   "execution_count": 9,
   "id": "f8fdac1a-6292-40a2-88b7-2ad32d9d2def",
   "metadata": {},
   "outputs": [],
   "source": [
    "a = beta_hat[0]\n",
    "b = beta_hat[1]\n",
    "c = beta_hat[2]"
   ]
  },
  {
   "cell_type": "code",
   "execution_count": 10,
   "id": "e006e081-b7cf-4339-9fb0-4539dc4d1955",
   "metadata": {},
   "outputs": [
    {
     "name": "stdout",
     "output_type": "stream",
     "text": [
      "a estimate: 0.0361959753727328, b estimate: -3.08939325442392, c estimate: 72.7400574684358\n"
     ]
    }
   ],
   "source": [
    "print(f\"a estimate: {a}, b estimate: {b}, c estimate: {c}\")"
   ]
  },
  {
   "cell_type": "code",
   "execution_count": 11,
   "id": "fda4c456-e242-4a51-a13a-ee25aaea0515",
   "metadata": {},
   "outputs": [
    {
     "data": {
      "text/plain": [
       "array([8.58012693829602, 13.1485203506078, 15.5418256824990,\n",
       "       62.5072363010130, 13.5372384235665, 8.22090559813843,\n",
       "       9.60640300156311, 22.5930598581318, 8.00466802346696,\n",
       "       18.1894144170199, 30.7706014056924], dtype=object)"
      ]
     },
     "execution_count": 11,
     "metadata": {},
     "output_type": "execute_result"
    }
   ],
   "source": [
    "y_fit = a*x_feature**2 + b*x_feature + c\n",
    "y_fit"
   ]
  },
  {
   "cell_type": "code",
   "execution_count": 12,
   "id": "212e8364-fd81-4121-9231-d43673aca3c3",
   "metadata": {},
   "outputs": [
    {
     "data": {
      "text/latex": [
       "$\\displaystyle \\left[\\begin{matrix}8.58012693829602\\\\13.1485203506078\\\\15.541825682499\\\\62.507236301013\\\\13.5372384235665\\\\8.22090559813843\\\\9.60640300156311\\\\22.5930598581318\\\\8.00466802346696\\\\18.1894144170199\\\\30.7706014056924\\end{matrix}\\right]$"
      ],
      "text/plain": [
       "Matrix([\n",
       "[8.58012693829602],\n",
       "[13.1485203506078],\n",
       "[ 15.541825682499],\n",
       "[ 62.507236301013],\n",
       "[13.5372384235665],\n",
       "[8.22090559813843],\n",
       "[9.60640300156311],\n",
       "[22.5930598581318],\n",
       "[8.00466802346696],\n",
       "[18.1894144170199],\n",
       "[30.7706014056924]])"
      ]
     },
     "execution_count": 12,
     "metadata": {},
     "output_type": "execute_result"
    }
   ],
   "source": [
    "pred_output = X*beta_hat\n",
    "pred_output"
   ]
  },
  {
   "cell_type": "markdown",
   "id": "963abfad-c102-44b1-8ef0-3e4b2dc6694f",
   "metadata": {},
   "source": [
    "### Plot the data point with line of best fit"
   ]
  },
  {
   "cell_type": "markdown",
   "id": "a891074e-0756-45c6-98be-19c407d09281",
   "metadata": {},
   "source": [
    "Now, we are going to plot the actual data points with our line of best fit."
   ]
  },
  {
   "cell_type": "code",
   "execution_count": 13,
   "id": "8db2807c-b357-4628-a9dc-dd298117b79a",
   "metadata": {},
   "outputs": [
    {
     "data": {
      "image/png": "[encoded data removed]",
      "text/plain": [
       "<Figure size 640x480 with 1 Axes>"
      ]
     },
     "metadata": {},
     "output_type": "display_data"
    }
   ],
   "source": [
    "plt.scatter(x_feature, y_feature)\n",
    "plt.xlabel(\"x\")\n",
    "plt.ylabel(\"y\")\n",
    "plt.title(\"y as a function of x\")\n",
    "plt.plot(x_feature, pred_output, c = \"red\")\n",
    "plt.show()"
   ]
  },
  {
   "cell_type": "markdown",
   "id": "0369afa0-d78b-46f7-bc85-c96e9d94b2e9",
   "metadata": {},
   "source": [
    "The reason why this graph looks so bad is because the x values in my design matrix are not sorted. So, first we must sort them."
   ]
  },
  {
   "cell_type": "markdown",
   "id": "2036c385-52bf-40ae-8359-eed85646faf7",
   "metadata": {},
   "source": [
    "### Updated graph with sorted x features to make line of best fit look better"
   ]
  },
  {
   "cell_type": "markdown",
   "id": "e7302f8d-ccbb-41cd-af9a-7d2be496248e",
   "metadata": {},
   "source": [
    "To fix this we must create a design matrix with the sorted values of the x_features for the sole purpose of plotting."
   ]
  },
  {
   "cell_type": "code",
   "execution_count": 14,
   "id": "46d746b5-f1db-4c75-bdd7-bfac2693bfa3",
   "metadata": {},
   "outputs": [
    {
     "data": {
      "text/latex": [
       "$\\displaystyle \\left[\\begin{matrix}475.24 & 21.8 & 1\\\\1149.21 & 33.9 & 1\\\\1274.49 & 35.7 & 1\\\\2342.56 & 48.4 & 1\\\\2391.21 & 48.9 & 1\\\\3124.81 & 55.9 & 1\\\\3169.69 & 56.3 & 1\\\\3387.24 & 58.2 & 1\\\\3648.16 & 60.4 & 1\\\\4678.56 & 68.4 & 1\\\\6707.61 & 81.9 & 1\\end{matrix}\\right]$"
      ],
      "text/plain": [
       "Matrix([\n",
       "[ 475.24, 21.8, 1],\n",
       "[1149.21, 33.9, 1],\n",
       "[1274.49, 35.7, 1],\n",
       "[2342.56, 48.4, 1],\n",
       "[2391.21, 48.9, 1],\n",
       "[3124.81, 55.9, 1],\n",
       "[3169.69, 56.3, 1],\n",
       "[3387.24, 58.2, 1],\n",
       "[3648.16, 60.4, 1],\n",
       "[4678.56, 68.4, 1],\n",
       "[6707.61, 81.9, 1]])"
      ]
     },
     "execution_count": 14,
     "metadata": {},
     "output_type": "execute_result"
    }
   ],
   "source": [
    "x_feature_sorted = np.sort(x_feature)\n",
    "X_sorted = Matrix([x_feature_sorted**2, x_feature_sorted, constants]).T\n",
    "X_sorted\n"
   ]
  },
  {
   "cell_type": "code",
   "execution_count": 15,
   "id": "63ddebe8-71c9-436c-9ef5-c63017256690",
   "metadata": {},
   "outputs": [
    {
     "data": {
      "text/latex": [
       "$\\displaystyle \\left[\\begin{matrix}22.5930598581318\\\\9.60640300156311\\\\8.58012693829602\\\\8.00466802346696\\\\8.22090559813843\\\\13.1485203506078\\\\13.5372384235665\\\\15.541825682499\\\\18.1894144170199\\\\30.7706014056924\\\\62.507236301013\\end{matrix}\\right]$"
      ],
      "text/plain": [
       "Matrix([\n",
       "[22.5930598581318],\n",
       "[9.60640300156311],\n",
       "[8.58012693829602],\n",
       "[8.00466802346696],\n",
       "[8.22090559813843],\n",
       "[13.1485203506078],\n",
       "[13.5372384235665],\n",
       "[ 15.541825682499],\n",
       "[18.1894144170199],\n",
       "[30.7706014056924],\n",
       "[ 62.507236301013]])"
      ]
     },
     "execution_count": 15,
     "metadata": {},
     "output_type": "execute_result"
    }
   ],
   "source": [
    "X_sorted@beta_hat"
   ]
  },
  {
   "cell_type": "code",
   "execution_count": 16,
   "id": "5416afb3-f28d-400c-b95b-a93ec6b0f618",
   "metadata": {},
   "outputs": [
    {
     "data": {
      "text/plain": [
       "<matplotlib.legend.Legend at 0x111a8d160>"
      ]
     },
     "execution_count": 16,
     "metadata": {},
     "output_type": "execute_result"
    },
    {
     "data": {
      "image/png": "[encoded data removed]",
      "text/plain": [
       "<Figure size 640x480 with 1 Axes>"
      ]
     },
     "metadata": {},
     "output_type": "display_data"
    }
   ],
   "source": [
    "plt.scatter(x_feature, y_feature, label = \"Actual Data\")\n",
    "plt.plot(x_feature_sorted, X_sorted*beta_hat, c = \"red\", label = \"Line of best fit\")\n",
    "plt.xlabel(\"x\")\n",
    "plt.ylabel(\"y\")\n",
    "plt.title(\"y as a function of x\")\n",
    "plt.legend()"
   ]
  },
  {
   "cell_type": "code",
   "execution_count": 17,
   "id": "75ac87fb-f869-45ec-91d9-b20b81099f42",
   "metadata": {},
   "outputs": [
    {
     "data": {
      "text/latex": [
       "$\\displaystyle 8.58012693829602$"
      ],
      "text/plain": [
       "8.58012693829602"
      ]
     },
     "execution_count": 17,
     "metadata": {},
     "output_type": "execute_result"
    }
   ],
   "source": [
    "est_1 = (x_feature[0]**2)*beta_hat[0] + x_feature[0]*beta_hat[1] + beta_hat[2] \n",
    "est_1"
   ]
  },
  {
   "cell_type": "code",
   "execution_count": 18,
   "id": "dc958100-5199-4b93-840b-6520c1ff894c",
   "metadata": {},
   "outputs": [
    {
     "data": {
      "text/latex": [
       "$\\displaystyle \\left[\\begin{matrix}8.58012693829602\\\\13.1485203506078\\\\15.541825682499\\\\62.507236301013\\\\13.5372384235665\\\\8.22090559813843\\\\9.60640300156311\\\\22.5930598581318\\\\8.00466802346696\\\\18.1894144170199\\\\30.7706014056924\\end{matrix}\\right]$"
      ],
      "text/plain": [
       "Matrix([\n",
       "[8.58012693829602],\n",
       "[13.1485203506078],\n",
       "[ 15.541825682499],\n",
       "[ 62.507236301013],\n",
       "[13.5372384235665],\n",
       "[8.22090559813843],\n",
       "[9.60640300156311],\n",
       "[22.5930598581318],\n",
       "[8.00466802346696],\n",
       "[18.1894144170199],\n",
       "[30.7706014056924]])"
      ]
     },
     "execution_count": 18,
     "metadata": {},
     "output_type": "execute_result"
    }
   ],
   "source": [
    "y_estimates = X@beta_hat\n",
    "y_estimates"
   ]
  },
  {
   "cell_type": "markdown",
   "id": "9e7afed3-a90a-446e-acd9-896785a26e02",
   "metadata": {},
   "source": [
    "### Computing the residual vector"
   ]
  },
  {
   "cell_type": "markdown",
   "id": "43e99817-326f-4bb9-8abe-e03aca62efde",
   "metadata": {},
   "source": [
    "Now we will compute the residual vector. This vector will contain the residual for each value of x. "
   ]
  },
  {
   "cell_type": "code",
   "execution_count": 19,
   "id": "a3c5e12f-5f18-41b1-a4ba-bab565552d81",
   "metadata": {},
   "outputs": [
    {
     "data": {
      "text/latex": [
       "$\\displaystyle \\left[\\begin{matrix}-1.28012693829602\\\\1.95147964939222\\\\1.65817431750096\\\\-0.607236301012968\\\\-1.23723842356646\\\\-0.22090559813843\\\\1.99359699843689\\\\-0.0930598581318094\\\\-2.00466802346696\\\\-1.58941441701986\\\\1.42939859430761\\end{matrix}\\right]$"
      ],
      "text/plain": [
       "Matrix([\n",
       "[  -1.28012693829602],\n",
       "[   1.95147964939222],\n",
       "[   1.65817431750096],\n",
       "[ -0.607236301012968],\n",
       "[  -1.23723842356646],\n",
       "[  -0.22090559813843],\n",
       "[   1.99359699843689],\n",
       "[-0.0930598581318094],\n",
       "[  -2.00466802346696],\n",
       "[  -1.58941441701986],\n",
       "[   1.42939859430761]])"
      ]
     },
     "execution_count": 19,
     "metadata": {},
     "output_type": "execute_result"
    }
   ],
   "source": [
    "# Residual is actual value minus the predicted value.\n",
    "res_vector = y - (y_estimates)\n",
    "res_vector"
   ]
  },
  {
   "cell_type": "markdown",
   "id": "2f974676-637e-430a-9098-36ceee38fe2d",
   "metadata": {},
   "source": [
    "### Computing the Norm of the residual vector"
   ]
  },
  {
   "cell_type": "code",
   "execution_count": 20,
   "id": "df5e560a-b29d-4823-83f0-da6fdc50d8bf",
   "metadata": {},
   "outputs": [
    {
     "data": {
      "text/latex": [
       "$\\displaystyle 4.76613423402983$"
      ],
      "text/plain": [
       "4.76613423402983"
      ]
     },
     "execution_count": 20,
     "metadata": {},
     "output_type": "execute_result"
    }
   ],
   "source": [
    "res_vector.norm()"
   ]
  },
  {
   "cell_type": "markdown",
   "id": "6989fb88-ee65-4452-95cd-1f99d8b9101b",
   "metadata": {},
   "source": [
    "### Computing the Root Mean Squared Error"
   ]
  },
  {
   "cell_type": "markdown",
   "id": "11037bc1-7379-47e5-a039-5639f631266d",
   "metadata": {},
   "source": [
    "The formula for RMSE is $\\sqrt(\\frac{1}{N}\\sum_{i=1}^{n}\\big(y_i-f(x_i)\\big)^2)$"
   ]
  },
  {
   "cell_type": "markdown",
   "id": "57f6d028-a125-4d3e-8ef0-1532f635486a",
   "metadata": {},
   "source": [
    "Let's write a function that calculates the RMSE for us."
   ]
  },
  {
   "cell_type": "code",
   "execution_count": 21,
   "id": "2355366a-ba8d-48fb-ac69-54265d21ff44",
   "metadata": {},
   "outputs": [
    {
     "data": {
      "text/latex": [
       "$\\displaystyle 1.43704354134044$"
      ],
      "text/plain": [
       "1.43704354134044"
      ]
     },
     "execution_count": 21,
     "metadata": {},
     "output_type": "execute_result"
    }
   ],
   "source": [
    "def rmse(vector):\n",
    "    # First squaring all of the residual terms\n",
    "    sq_error = [x**2 for x in vector]\n",
    "    sum_sq_error = sum(sq_error)\n",
    "    mean_sq_error = sum_sq_error / len(vector)\n",
    "    return mean_sq_error**0.5\n",
    "\n",
    "rmse(res_vector)\n",
    "    "
   ]
  },
  {
   "cell_type": "markdown",
   "id": "5fcd74aa-d5d2-411a-bd35-0ec8c541119e",
   "metadata": {},
   "source": [
    "On averge, our predicitions were off by about 1.4370 units which is actaully slightly less than the RMSE of 1.4371 units for the gradient descent procedure."
   ]
  },
  {
   "cell_type": "code",
   "execution_count": 22,
   "id": "c7d1a98e-0696-432f-95dd-8f3dac30a5c2",
   "metadata": {},
   "outputs": [],
   "source": [
    "def ols_regression(x_vec, y_vec):\n",
    "    const = [1 for x in range(len(x_feature))]\n",
    "    design_mat = Matrix([x_vec**2, x_vec, const]).T\n",
    "    y_mat = Matrix(y_vec)\n",
    "    return (design_mat.T*design_mat).inv()*(design_mat.T*y_mat)"
   ]
  },
  {
   "cell_type": "code",
   "execution_count": 23,
   "id": "d4211d57-6b18-429b-aaea-dc03318ae3b0",
   "metadata": {},
   "outputs": [
    {
     "data": {
      "text/latex": [
       "$\\displaystyle \\left[\\begin{matrix}0.036195975372733\\\\-3.08939325442393\\\\72.7400574684359\\end{matrix}\\right]$"
      ],
      "text/plain": [
       "Matrix([\n",
       "[0.036195975372733],\n",
       "[-3.08939325442393],\n",
       "[ 72.7400574684359]])"
      ]
     },
     "execution_count": 23,
     "metadata": {},
     "output_type": "execute_result"
    }
   ],
   "source": [
    "ols_regression(x_feature, y_feature)"
   ]
  }
 ],
 "metadata": {
  "kernelspec": {
   "display_name": "Python 3 (ipykernel)",
   "language": "python",
   "name": "python3"
  },
  "language_info": {
   "codemirror_mode": {
    "name": "ipython",
    "version": 3
   },
   "file_extension": ".py",
   "mimetype": "text/x-python",
   "name": "python",
   "nbconvert_exporter": "python",
   "pygments_lexer": "ipython3",
   "version": "3.13.5"
  }
 },
 "nbformat": 4,
 "nbformat_minor": 5
}
